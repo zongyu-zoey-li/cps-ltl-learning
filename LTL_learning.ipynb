{
 "cells": [
  {
   "cell_type": "code",
   "execution_count": 2,
   "id": "4ee75d47",
   "metadata": {},
   "outputs": [],
   "source": [
    "from Scarlet.ltllearner import LTLlearner\n",
    "import os\n",
    "import numpy as np"
   ]
  },
  {
   "cell_type": "code",
   "execution_count": 15,
   "id": "25b80c4a",
   "metadata": {},
   "outputs": [],
   "source": [
    "formula_num = 2\n",
    "train_root = './formula{}/train'.format(formula_num)"
   ]
  },
  {
   "cell_type": "code",
   "execution_count": 16,
   "id": "04b7cef6",
   "metadata": {
    "scrolled": true
   },
   "outputs": [
    {
     "name": "stderr",
     "output_type": "stream",
     "text": [
      "Final formula found (G ((! q) | (G (! p))))\n",
      "Time taken is: 0.997 secs\n",
      "Final formula found (G (! q))\n",
      "Time taken is: 0.024 secs\n",
      "Final formula found (G ((! q) | (G (! p))))\n",
      "Time taken is: 0.554 secs\n",
      "Final formula found (G ((! q) | (G (! p))))\n",
      "Time taken is: 0.45 secs\n",
      "Final formula found (G ((! q) | (G (! p))))\n",
      "Time taken is: 0.413 secs\n",
      "Final formula found (G ((! q) | (G (! p))))\n",
      "Time taken is: 1.21 secs\n",
      "Final formula found (G ((! q) | (G (! p))))\n",
      "Time taken is: 0.921 secs\n",
      "Final formula found (G ((! q) | (G (! p))))\n",
      "Time taken is: 2.117 secs\n",
      "Final formula found (G ((! q) | (G (! p))))\n",
      "Time taken is: 1.341 secs\n",
      "Final formula found (G ((! q) | (G (! p))))\n",
      "Time taken is: 0.155 secs\n",
      "Final formula found (G ((! q) | (G (! p))))\n",
      "Time taken is: 0.187 secs\n",
      "Final formula found (G ((! q) | (G (! p))))\n",
      "Time taken is: 0.14 secs\n",
      "Final formula found (G ((! q) | (G (! p))))\n",
      "Time taken is: 0.679 secs\n",
      "Final formula found (G (! q))\n",
      "Time taken is: 0.034 secs\n",
      "Final formula found (G ((! q) | (G (! p))))\n",
      "Time taken is: 0.172 secs\n",
      "Final formula found (G ((! q) | (G (! p))))\n",
      "Time taken is: 1.576 secs\n",
      "Final formula found (G ((! q) | (G (! p))))\n",
      "Time taken is: 0.804 secs\n",
      "Final formula found (G (! q))\n",
      "Time taken is: 0.02 secs\n",
      "Final formula found (G ((! q) | (G (! p))))\n",
      "Time taken is: 1.754 secs\n",
      "Final formula found (G ((! q) | (G (! p))))\n",
      "Time taken is: 0.351 secs\n",
      "Final formula found (G ((! q) | (G (! p))))\n",
      "Time taken is: 1.061 secs\n",
      "Final formula found (G ((! q) | (G (! p))))\n",
      "Time taken is: 0.178 secs\n",
      "Final formula found (G ((! q) | (G (! p))))\n",
      "Time taken is: 1.63 secs\n",
      "Final formula found (G ((! q) | (G (! p))))\n",
      "Time taken is: 0.187 secs\n",
      "Final formula found (G ((! q) | (G (! p))))\n",
      "Time taken is: 0.26 secs\n",
      "Final formula found (G ((! q) | (G (! p))))\n",
      "Time taken is: 1.311 secs\n"
     ]
    }
   ],
   "source": [
    "for file in os.listdir(train_root):\n",
    "    file_path = os.path.join(train_root, file)\n",
    "    learner = LTLlearner(input_file = file_path, csvname='formula{}.xlsx'.format(formula_num))\n",
    "    learner.learn()"
   ]
  },
  {
   "cell_type": "code",
   "execution_count": null,
   "id": "ef160198",
   "metadata": {},
   "outputs": [],
   "source": []
  }
 ],
 "metadata": {
  "kernelspec": {
   "display_name": "Python 3 (ipykernel)",
   "language": "python",
   "name": "python3"
  },
  "language_info": {
   "codemirror_mode": {
    "name": "ipython",
    "version": 3
   },
   "file_extension": ".py",
   "mimetype": "text/x-python",
   "name": "python",
   "nbconvert_exporter": "python",
   "pygments_lexer": "ipython3",
   "version": "3.11.2"
  }
 },
 "nbformat": 4,
 "nbformat_minor": 5
}
