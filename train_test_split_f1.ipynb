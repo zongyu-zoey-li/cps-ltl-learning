{
 "cells": [
  {
   "cell_type": "code",
   "execution_count": 1,
   "id": "14bd690c",
   "metadata": {},
   "outputs": [],
   "source": [
    "import os\n",
    "import numpy as np\n",
    "import shutil"
   ]
  },
  {
   "cell_type": "code",
   "execution_count": 2,
   "id": "656fe9f3",
   "metadata": {},
   "outputs": [],
   "source": [
    "root= './Scarlet-main/All_benchmarks/RQ1-benchmarks/generated_benchmarks/TracesFiles'"
   ]
  },
  {
   "cell_type": "code",
   "execution_count": 3,
   "id": "c0f772cd",
   "metadata": {},
   "outputs": [],
   "source": [
    "file_list = []\n",
    "for file in os.listdir(root):\n",
    "    if file.startswith('f:01'):\n",
    "        file_list.append(file)"
   ]
  },
  {
   "cell_type": "code",
   "execution_count": 4,
   "id": "68bd4bba",
   "metadata": {},
   "outputs": [],
   "source": [
    "import sklearn\n",
    "from sklearn.model_selection import train_test_split"
   ]
  },
  {
   "cell_type": "code",
   "execution_count": 5,
   "id": "1132376e",
   "metadata": {},
   "outputs": [],
   "source": [
    "train, test = train_test_split(file_list, test_size=0.2)"
   ]
  },
  {
   "cell_type": "code",
   "execution_count": 10,
   "id": "e57639be",
   "metadata": {},
   "outputs": [],
   "source": [
    "root_ = './cps-ltl-learning-main/formula1'\n",
    "if not os.path.exists(root_):\n",
    "    os.makedirs(root_)\n",
    "\n",
    "dest_train = os.path.join(root_, 'train')\n",
    "dest_test = os.path.join(root_, 'test')\n",
    "if not os.path.exists(dest_train):\n",
    "    os.makedirs(dest_train)\n",
    "if not os.path.exists(dest_test):\n",
    "    os.makedirs(dest_test)\n",
    "\n",
    "\n",
    "train_file = []\n",
    "test_file = []\n",
    "for file in os.listdir(root):\n",
    "    if file in train:\n",
    "        shutil.copy(os.path.join(root, file), dest_train)\n",
    "    elif file in test:\n",
    "        shutil.copy(os.path.join(root, file), dest_test)"
   ]
  },
  {
   "cell_type": "code",
   "execution_count": null,
   "id": "ecd4f87f",
   "metadata": {},
   "outputs": [],
   "source": []
  }
 ],
 "metadata": {
  "kernelspec": {
   "display_name": "Python 3 (ipykernel)",
   "language": "python",
   "name": "python3"
  },
  "language_info": {
   "codemirror_mode": {
    "name": "ipython",
    "version": 3
   },
   "file_extension": ".py",
   "mimetype": "text/x-python",
   "name": "python",
   "nbconvert_exporter": "python",
   "pygments_lexer": "ipython3",
   "version": "3.11.2"
  }
 },
 "nbformat": 4,
 "nbformat_minor": 5
}
